{
 "cells": [
  {
   "cell_type": "markdown",
   "id": "e8fd71c0-4d16-4064-96dc-7a658860963f",
   "metadata": {},
   "source": [
    "## Part 1: Array Creation & Attributes (The Fundamentals) "
   ]
  },
  {
   "cell_type": "markdown",
   "id": "f6f9d95c-8761-484f-84b9-486549c2e11c",
   "metadata": {},
   "source": [
    "#### 1. Import the NumPy library with the alias np. "
   ]
  },
  {
   "cell_type": "code",
   "execution_count": 1,
   "id": "dd6849c9-332c-440c-a936-c1720128a2e4",
   "metadata": {},
   "outputs": [],
   "source": [
    "import numpy as np"
   ]
  },
  {
   "cell_type": "markdown",
   "id": "30e3e440-2084-418c-82c5-c8a38c9a2585",
   "metadata": {},
   "source": [
    "#### 2. Create a 1D NumPy array from the Python list [1, 2, 3, 4, 5]."
   ]
  },
  {
   "cell_type": "code",
   "execution_count": 2,
   "id": "fdff9c95-cf94-4552-9a33-663886882d66",
   "metadata": {},
   "outputs": [
    {
     "data": {
      "text/plain": [
       "array([1, 2, 3, 4, 5])"
      ]
     },
     "execution_count": 2,
     "metadata": {},
     "output_type": "execute_result"
    }
   ],
   "source": [
    "arr = np.array([1,2,3,4,5])\n",
    "arr"
   ]
  },
  {
   "cell_type": "markdown",
   "id": "917e0ce7-1885-494c-a29b-aa6dd1f8f16c",
   "metadata": {},
   "source": [
    "#### 3. Create a 1D array of 10 zeros."
   ]
  },
  {
   "cell_type": "code",
   "execution_count": 3,
   "id": "c24d5383-cdd2-4d8e-a49c-93a116d18c21",
   "metadata": {},
   "outputs": [
    {
     "data": {
      "text/plain": [
       "array([0., 0., 0., 0., 0., 0., 0., 0., 0., 0.])"
      ]
     },
     "execution_count": 3,
     "metadata": {},
     "output_type": "execute_result"
    }
   ],
   "source": [
    "arr = np.zeros(10)\n",
    "arr"
   ]
  },
  {
   "cell_type": "markdown",
   "id": "00766e0b-7bb5-4e85-b1ee-5b12f2aa07ca",
   "metadata": {},
   "source": [
    "#### 4. Create a 3x3 array filled with ones."
   ]
  },
  {
   "cell_type": "code",
   "execution_count": 4,
   "id": "81d58e93-0b96-4ad5-952c-1018cebf8a04",
   "metadata": {},
   "outputs": [
    {
     "data": {
      "text/plain": [
       "array([[1., 1., 1.],\n",
       "       [1., 1., 1.],\n",
       "       [1., 1., 1.]])"
      ]
     },
     "execution_count": 4,
     "metadata": {},
     "output_type": "execute_result"
    }
   ],
   "source": [
    "arr = np.ones([3,3])\n",
    "arr"
   ]
  },
  {
   "cell_type": "markdown",
   "id": "f4ea5e6f-7017-4611-b8bd-2749539b0e0d",
   "metadata": {},
   "source": [
    "#### 5. Create an array of all even integers from 10 to 50."
   ]
  },
  {
   "cell_type": "code",
   "execution_count": 5,
   "id": "df07da85-6ed3-4906-852c-61a10d53d296",
   "metadata": {},
   "outputs": [
    {
     "data": {
      "text/plain": [
       "array([10, 12, 14, 16, 18, 20, 22, 24, 26, 28, 30, 32, 34, 36, 38, 40, 42,\n",
       "       44, 46, 48, 50])"
      ]
     },
     "execution_count": 5,
     "metadata": {},
     "output_type": "execute_result"
    }
   ],
   "source": [
    "arr = np.arange(10,51,2)\n",
    "arr"
   ]
  },
  {
   "cell_type": "markdown",
   "id": "a5de1a5b-289f-4b2c-b3af-ea9343571ff0",
   "metadata": {},
   "source": [
    "#### 6. Create a 3x3 matrix with values ranging from 0 to 8. "
   ]
  },
  {
   "cell_type": "code",
   "execution_count": 6,
   "id": "98d7c493-26e5-4f8c-ad3f-d83fab77376e",
   "metadata": {},
   "outputs": [
    {
     "data": {
      "text/plain": [
       "array([[0, 1, 2],\n",
       "       [3, 4, 5],\n",
       "       [6, 7, 8]])"
      ]
     },
     "execution_count": 6,
     "metadata": {},
     "output_type": "execute_result"
    }
   ],
   "source": [
    "arr = np.arange(9).reshape([3,3])\n",
    "arr"
   ]
  },
  {
   "cell_type": "markdown",
   "id": "16980ee9-544b-4525-9343-411dda9263e5",
   "metadata": {},
   "source": [
    "#### 7. Create a 4x4 identity matrix."
   ]
  },
  {
   "cell_type": "code",
   "execution_count": 7,
   "id": "5318c008-7ad1-4a31-b3dc-10492215350d",
   "metadata": {},
   "outputs": [
    {
     "data": {
      "text/plain": [
       "array([[1., 0., 0., 0.],\n",
       "       [0., 1., 0., 0.],\n",
       "       [0., 0., 1., 0.],\n",
       "       [0., 0., 0., 1.]])"
      ]
     },
     "execution_count": 7,
     "metadata": {},
     "output_type": "execute_result"
    }
   ],
   "source": [
    "arr = np.eye(4)\n",
    "arr"
   ]
  },
  {
   "cell_type": "code",
   "execution_count": 8,
   "id": "3eb95d71-305d-44c4-8e06-a1ef5d9b3723",
   "metadata": {},
   "outputs": [
    {
     "data": {
      "text/plain": [
       "array([0.  , 0.25, 0.5 , 0.75, 1.  ])"
      ]
     },
     "execution_count": 8,
     "metadata": {},
     "output_type": "execute_result"
    }
   ],
   "source": [
    "arr = np.linspace(0,1,5)\n",
    "arr"
   ]
  },
  {
   "cell_type": "markdown",
   "id": "cf0f5263-ebe3-47e1-9005-9e4ded1bd5e0",
   "metadata": {},
   "source": [
    "#### 9. Create a 3x4 array filled with random numbers between 0 and 1. "
   ]
  },
  {
   "cell_type": "code",
   "execution_count": 9,
   "id": "e186f1c8-c692-4052-ba2c-66acd95b9f18",
   "metadata": {},
   "outputs": [
    {
     "data": {
      "text/plain": [
       "array([[0.89788795, 0.0418986 , 0.80317789, 0.7072799 ],\n",
       "       [0.60141728, 0.24157994, 0.49711996, 0.6273043 ],\n",
       "       [0.8076031 , 0.6665446 , 0.61456703, 0.19419645]])"
      ]
     },
     "execution_count": 9,
     "metadata": {},
     "output_type": "execute_result"
    }
   ],
   "source": [
    "arr = np.random.rand(3,4)\n",
    "arr"
   ]
  },
  {
   "cell_type": "markdown",
   "id": "37dab7cc-8b42-43d4-8465-6f29cfe729dc",
   "metadata": {},
   "source": [
    "#### 10. Create a 5x5 array with random integers from 1 to 100. "
   ]
  },
  {
   "cell_type": "code",
   "execution_count": 10,
   "id": "fe838b92-aef1-4249-91f7-021ef4366b3c",
   "metadata": {},
   "outputs": [
    {
     "data": {
      "text/plain": [
       "array([[56,  7, 24, 54, 42],\n",
       "       [50, 30, 61, 22, 20],\n",
       "       [15, 45, 82, 95, 70],\n",
       "       [69, 69, 66, 33, 53],\n",
       "       [76, 53, 94, 81, 59]])"
      ]
     },
     "execution_count": 10,
     "metadata": {},
     "output_type": "execute_result"
    }
   ],
   "source": [
    "arr = np.random.randint(1,101, size=(5,5))\n",
    "arr"
   ]
  },
  {
   "cell_type": "markdown",
   "id": "c6954804-f401-4541-81a0-d49aff117d70",
   "metadata": {},
   "source": [
    "#### 11. Given the array arr = np.arange(25).reshape(5, 5), find its shape. "
   ]
  },
  {
   "cell_type": "code",
   "execution_count": 11,
   "id": "3689ecae-26a2-434b-a656-344850c096b5",
   "metadata": {},
   "outputs": [
    {
     "data": {
      "text/plain": [
       "(5, 5)"
      ]
     },
     "execution_count": 11,
     "metadata": {},
     "output_type": "execute_result"
    }
   ],
   "source": [
    "arr = np.arange(25).reshape(5, 5)\n",
    "arr.shape"
   ]
  },
  {
   "cell_type": "markdown",
   "id": "9f0cb0e5-5408-4743-a5d5-1769900f422b",
   "metadata": {},
   "source": [
    "#### 12. For the same array arr, find its data type."
   ]
  },
  {
   "cell_type": "code",
   "execution_count": 12,
   "id": "5c4853f3-3327-4789-a01c-1fe7d75793f1",
   "metadata": {},
   "outputs": [
    {
     "data": {
      "text/plain": [
       "dtype('int32')"
      ]
     },
     "execution_count": 12,
     "metadata": {},
     "output_type": "execute_result"
    }
   ],
   "source": [
    "arr.dtype"
   ]
  },
  {
   "cell_type": "markdown",
   "id": "dad3e39a-40e2-431d-8843-cb8097c82e4c",
   "metadata": {},
   "source": [
    "#### 13. For the same array arr, find the total number of elements. "
   ]
  },
  {
   "cell_type": "code",
   "execution_count": 13,
   "id": "16dab064-498c-486a-ad24-d00145399ada",
   "metadata": {},
   "outputs": [
    {
     "data": {
      "text/plain": [
       "25"
      ]
     },
     "execution_count": 13,
     "metadata": {},
     "output_type": "execute_result"
    }
   ],
   "source": [
    "arr.size"
   ]
  },
  {
   "cell_type": "markdown",
   "id": "13208f7f-5d46-41c9-9db3-2ebbade67835",
   "metadata": {},
   "source": [
    "#### 14. Create the array [1, 2, 3] but make sure its data type is float. "
   ]
  },
  {
   "cell_type": "code",
   "execution_count": 14,
   "id": "de39e0c4-e884-4a80-b9f9-c6d57235f467",
   "metadata": {},
   "outputs": [
    {
     "data": {
      "text/plain": [
       "dtype('float64')"
      ]
     },
     "execution_count": 14,
     "metadata": {},
     "output_type": "execute_result"
    }
   ],
   "source": [
    "arr = np.array([1,2,3], dtype = float)\n",
    "arr.dtype"
   ]
  },
  {
   "cell_type": "markdown",
   "id": "bd610a8e-a177-4032-969f-4e5d0f6a2e7b",
   "metadata": {},
   "source": [
    "#### 15. Convert the data type of an existing integer array to float."
   ]
  },
  {
   "cell_type": "code",
   "execution_count": 15,
   "id": "6026675a-7c93-4dac-829a-9309c31e5c49",
   "metadata": {},
   "outputs": [
    {
     "data": {
      "text/plain": [
       "array([1., 2., 3., 4.])"
      ]
     },
     "execution_count": 15,
     "metadata": {},
     "output_type": "execute_result"
    }
   ],
   "source": [
    "arr = np.array([1,2,3,4])\n",
    "arr.astype(float)"
   ]
  },
  {
   "cell_type": "markdown",
   "id": "8ab4cc1d-288f-425b-8446-4724e914c964",
   "metadata": {},
   "source": [
    "## Part 2: Indexing & Slicing (Accessing Your Data) "
   ]
  },
  {
   "cell_type": "markdown",
   "id": "53e2d04e-e221-40ec-8b96-78e7ca1200f5",
   "metadata": {},
   "source": [
    "(For questions 16-35, use the following arrays):\n",
    "\n",
    "arr_1d = np.arange(10)  \n",
    "arr_2d = np.array([[1, 2, 3], [4, 5, 6], [7, 8, 9]])  "
   ]
  },
  {
   "cell_type": "markdown",
   "id": "e46b7263-02fd-4b57-9b33-033783e6b4fa",
   "metadata": {},
   "source": [
    "#### 16. From arr_1d, get the first element."
   ]
  },
  {
   "cell_type": "code",
   "execution_count": 16,
   "id": "bdc3a6b5-478b-4336-8ff4-259ce7207afe",
   "metadata": {},
   "outputs": [],
   "source": [
    "arr_1d = np.arange(10)  \n",
    "arr_2d = np.array([[1, 2, 3], \n",
    "                   [4, 5, 6], \n",
    "                   [7, 8, 9]])"
   ]
  },
  {
   "cell_type": "code",
   "execution_count": 23,
   "id": "a4af46f2-98ed-4b4c-b350-4c8a1658682a",
   "metadata": {},
   "outputs": [
    {
     "data": {
      "text/plain": [
       "array([0, 1, 2, 3, 4, 5, 6, 7, 8, 9])"
      ]
     },
     "execution_count": 23,
     "metadata": {},
     "output_type": "execute_result"
    }
   ],
   "source": [
    "arr_1d"
   ]
  },
  {
   "cell_type": "code",
   "execution_count": 24,
   "id": "1a39f3c8-d969-44ee-bcf9-41f1f27271aa",
   "metadata": {},
   "outputs": [
    {
     "data": {
      "text/plain": [
       "0"
      ]
     },
     "execution_count": 24,
     "metadata": {},
     "output_type": "execute_result"
    }
   ],
   "source": [
    "arr_1d[0]"
   ]
  },
  {
   "cell_type": "markdown",
   "id": "b1201333-26cf-4800-be54-07adacefea83",
   "metadata": {},
   "source": [
    "#### 17. From arr_1d, get the last element. "
   ]
  },
  {
   "cell_type": "code",
   "execution_count": 26,
   "id": "7011eb76-430a-4836-9144-b03568820dec",
   "metadata": {},
   "outputs": [
    {
     "data": {
      "text/plain": [
       "9"
      ]
     },
     "execution_count": 26,
     "metadata": {},
     "output_type": "execute_result"
    }
   ],
   "source": [
    "arr_1d[-1]"
   ]
  },
  {
   "cell_type": "markdown",
   "id": "8260a4b4-2d68-4cb5-b2cd-071cd8c8a0f2",
   "metadata": {},
   "source": [
    "#### 18. From arr_1d, get the elements from index 2 up to index 5."
   ]
  },
  {
   "cell_type": "code",
   "execution_count": 27,
   "id": "1ff2a1f0-0e2d-4408-bfd5-27cd67fc3ea4",
   "metadata": {},
   "outputs": [
    {
     "data": {
      "text/plain": [
       "array([2, 3, 4, 5])"
      ]
     },
     "execution_count": 27,
     "metadata": {},
     "output_type": "execute_result"
    }
   ],
   "source": [
    "arr_1d[2:6]"
   ]
  },
  {
   "cell_type": "markdown",
   "id": "7a1e935e-2de5-403a-a57e-634da9467933",
   "metadata": {},
   "source": [
    "#### 19. From arr_1d, get all elements in reverse order. "
   ]
  },
  {
   "cell_type": "code",
   "execution_count": 31,
   "id": "9352c304-a4f7-48e3-abb3-d99647ed5e3d",
   "metadata": {},
   "outputs": [
    {
     "data": {
      "text/plain": [
       "array([9, 8, 7, 6, 5, 4, 3, 2, 1, 0])"
      ]
     },
     "execution_count": 31,
     "metadata": {},
     "output_type": "execute_result"
    }
   ],
   "source": [
    "arr_1d[9::-1]"
   ]
  },
  {
   "cell_type": "markdown",
   "id": "abbd8256-c55c-445b-9baf-4a899fd06f79",
   "metadata": {},
   "source": [
    "#### 20. From arr_2d, get the element at row 1, column 2 (which is 6)."
   ]
  },
  {
   "cell_type": "code",
   "execution_count": null,
   "id": "5e6f8a9a-c4d3-476b-848a-3c00b0c65b06",
   "metadata": {},
   "outputs": [],
   "source": []
  }
 ],
 "metadata": {
  "kernelspec": {
   "display_name": "Python 3 (ipykernel)",
   "language": "python",
   "name": "python3"
  },
  "language_info": {
   "codemirror_mode": {
    "name": "ipython",
    "version": 3
   },
   "file_extension": ".py",
   "mimetype": "text/x-python",
   "name": "python",
   "nbconvert_exporter": "python",
   "pygments_lexer": "ipython3",
   "version": "3.12.7"
  },
  "widgets": {
   "application/vnd.jupyter.widget-state+json": {
    "state": {},
    "version_major": 2,
    "version_minor": 0
   }
  }
 },
 "nbformat": 4,
 "nbformat_minor": 5
}
