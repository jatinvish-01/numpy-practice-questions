{
 "cells": [
  {
   "cell_type": "markdown",
   "id": "e8fd71c0-4d16-4064-96dc-7a658860963f",
   "metadata": {},
   "source": [
    "## Part 1: Array Creation & Attributes (The Fundamentals) "
   ]
  },
  {
   "cell_type": "markdown",
   "id": "f6f9d95c-8761-484f-84b9-486549c2e11c",
   "metadata": {},
   "source": [
    "#### 1. Import the NumPy library with the alias np. "
   ]
  },
  {
   "cell_type": "code",
   "execution_count": 1,
   "id": "dd6849c9-332c-440c-a936-c1720128a2e4",
   "metadata": {},
   "outputs": [],
   "source": [
    "import numpy as np"
   ]
  },
  {
   "cell_type": "markdown",
   "id": "30e3e440-2084-418c-82c5-c8a38c9a2585",
   "metadata": {},
   "source": [
    "#### 2. Create a 1D NumPy array from the Python list [1, 2, 3, 4, 5]."
   ]
  },
  {
   "cell_type": "code",
   "execution_count": 2,
   "id": "fdff9c95-cf94-4552-9a33-663886882d66",
   "metadata": {},
   "outputs": [
    {
     "data": {
      "text/plain": [
       "array([1, 2, 3, 4, 5])"
      ]
     },
     "execution_count": 2,
     "metadata": {},
     "output_type": "execute_result"
    }
   ],
   "source": [
    "arr = np.array([1,2,3,4,5])\n",
    "arr"
   ]
  },
  {
   "cell_type": "markdown",
   "id": "917e0ce7-1885-494c-a29b-aa6dd1f8f16c",
   "metadata": {},
   "source": [
    "#### 3. Create a 1D array of 10 zeros."
   ]
  },
  {
   "cell_type": "code",
   "execution_count": 3,
   "id": "c24d5383-cdd2-4d8e-a49c-93a116d18c21",
   "metadata": {},
   "outputs": [
    {
     "data": {
      "text/plain": [
       "array([0., 0., 0., 0., 0., 0., 0., 0., 0., 0.])"
      ]
     },
     "execution_count": 3,
     "metadata": {},
     "output_type": "execute_result"
    }
   ],
   "source": [
    "arr = np.zeros(10)\n",
    "arr"
   ]
  },
  {
   "cell_type": "markdown",
   "id": "00766e0b-7bb5-4e85-b1ee-5b12f2aa07ca",
   "metadata": {},
   "source": [
    "#### 4. Create a 3x3 array filled with ones."
   ]
  },
  {
   "cell_type": "code",
   "execution_count": 4,
   "id": "81d58e93-0b96-4ad5-952c-1018cebf8a04",
   "metadata": {},
   "outputs": [
    {
     "data": {
      "text/plain": [
       "array([[1., 1., 1.],\n",
       "       [1., 1., 1.],\n",
       "       [1., 1., 1.]])"
      ]
     },
     "execution_count": 4,
     "metadata": {},
     "output_type": "execute_result"
    }
   ],
   "source": [
    "arr = np.ones([3,3])\n",
    "arr"
   ]
  },
  {
   "cell_type": "markdown",
   "id": "f4ea5e6f-7017-4611-b8bd-2749539b0e0d",
   "metadata": {},
   "source": [
    "#### 5. Create an array of all even integers from 10 to 50."
   ]
  },
  {
   "cell_type": "code",
   "execution_count": 5,
   "id": "df07da85-6ed3-4906-852c-61a10d53d296",
   "metadata": {},
   "outputs": [
    {
     "data": {
      "text/plain": [
       "array([10, 12, 14, 16, 18, 20, 22, 24, 26, 28, 30, 32, 34, 36, 38, 40, 42,\n",
       "       44, 46, 48, 50])"
      ]
     },
     "execution_count": 5,
     "metadata": {},
     "output_type": "execute_result"
    }
   ],
   "source": [
    "arr = np.arange(10,51,2)\n",
    "arr"
   ]
  },
  {
   "cell_type": "markdown",
   "id": "a5de1a5b-289f-4b2c-b3af-ea9343571ff0",
   "metadata": {},
   "source": [
    "#### 6. Create a 3x3 matrix with values ranging from 0 to 8. "
   ]
  },
  {
   "cell_type": "code",
   "execution_count": 6,
   "id": "98d7c493-26e5-4f8c-ad3f-d83fab77376e",
   "metadata": {},
   "outputs": [
    {
     "data": {
      "text/plain": [
       "array([[0, 1, 2],\n",
       "       [3, 4, 5],\n",
       "       [6, 7, 8]])"
      ]
     },
     "execution_count": 6,
     "metadata": {},
     "output_type": "execute_result"
    }
   ],
   "source": [
    "arr = np.arange(9).reshape([3,3])\n",
    "arr"
   ]
  },
  {
   "cell_type": "markdown",
   "id": "16980ee9-544b-4525-9343-411dda9263e5",
   "metadata": {},
   "source": [
    "#### 7. Create a 4x4 identity matrix."
   ]
  },
  {
   "cell_type": "code",
   "execution_count": 7,
   "id": "5318c008-7ad1-4a31-b3dc-10492215350d",
   "metadata": {},
   "outputs": [
    {
     "data": {
      "text/plain": [
       "array([[1., 0., 0., 0.],\n",
       "       [0., 1., 0., 0.],\n",
       "       [0., 0., 1., 0.],\n",
       "       [0., 0., 0., 1.]])"
      ]
     },
     "execution_count": 7,
     "metadata": {},
     "output_type": "execute_result"
    }
   ],
   "source": [
    "arr = np.eye(4)\n",
    "arr"
   ]
  },
  {
   "cell_type": "code",
   "execution_count": 8,
   "id": "3eb95d71-305d-44c4-8e06-a1ef5d9b3723",
   "metadata": {},
   "outputs": [
    {
     "data": {
      "text/plain": [
       "array([0.  , 0.25, 0.5 , 0.75, 1.  ])"
      ]
     },
     "execution_count": 8,
     "metadata": {},
     "output_type": "execute_result"
    }
   ],
   "source": [
    "arr = np.linspace(0,1,5)\n",
    "arr"
   ]
  },
  {
   "cell_type": "markdown",
   "id": "cf0f5263-ebe3-47e1-9005-9e4ded1bd5e0",
   "metadata": {},
   "source": [
    "#### 9. Create a 3x4 array filled with random numbers between 0 and 1. "
   ]
  },
  {
   "cell_type": "code",
   "execution_count": 9,
   "id": "e186f1c8-c692-4052-ba2c-66acd95b9f18",
   "metadata": {},
   "outputs": [
    {
     "data": {
      "text/plain": [
       "array([[0.97130161, 0.93471665, 0.27325172, 0.14075995],\n",
       "       [0.2448587 , 0.32664681, 0.40237927, 0.41783067],\n",
       "       [0.79784591, 0.78304826, 0.33376514, 0.01653733]])"
      ]
     },
     "execution_count": 9,
     "metadata": {},
     "output_type": "execute_result"
    }
   ],
   "source": [
    "arr = np.random.rand(3,4)\n",
    "arr"
   ]
  },
  {
   "cell_type": "markdown",
   "id": "37dab7cc-8b42-43d4-8465-6f29cfe729dc",
   "metadata": {},
   "source": [
    "#### 10. Create a 5x5 array with random integers from 1 to 100. "
   ]
  },
  {
   "cell_type": "code",
   "execution_count": 10,
   "id": "fe838b92-aef1-4249-91f7-021ef4366b3c",
   "metadata": {},
   "outputs": [
    {
     "data": {
      "text/plain": [
       "array([[ 2, 87, 83, 11, 99],\n",
       "       [97,  5, 24, 28, 97],\n",
       "       [85, 54, 43, 52,  4],\n",
       "       [48, 86, 16, 75, 65],\n",
       "       [91, 59, 87, 89, 68]])"
      ]
     },
     "execution_count": 10,
     "metadata": {},
     "output_type": "execute_result"
    }
   ],
   "source": [
    "arr = np.random.randint(1,101, size=(5,5))\n",
    "arr"
   ]
  },
  {
   "cell_type": "markdown",
   "id": "c6954804-f401-4541-81a0-d49aff117d70",
   "metadata": {},
   "source": [
    "#### 11. Given the array arr = np.arange(25).reshape(5, 5), find its shape. "
   ]
  },
  {
   "cell_type": "code",
   "execution_count": 11,
   "id": "3689ecae-26a2-434b-a656-344850c096b5",
   "metadata": {},
   "outputs": [
    {
     "data": {
      "text/plain": [
       "(5, 5)"
      ]
     },
     "execution_count": 11,
     "metadata": {},
     "output_type": "execute_result"
    }
   ],
   "source": [
    "arr = np.arange(25).reshape(5, 5)\n",
    "arr.shape"
   ]
  },
  {
   "cell_type": "markdown",
   "id": "9f0cb0e5-5408-4743-a5d5-1769900f422b",
   "metadata": {},
   "source": [
    "#### 12. For the same array arr, find its data type."
   ]
  },
  {
   "cell_type": "code",
   "execution_count": 12,
   "id": "5c4853f3-3327-4789-a01c-1fe7d75793f1",
   "metadata": {},
   "outputs": [
    {
     "data": {
      "text/plain": [
       "dtype('int32')"
      ]
     },
     "execution_count": 12,
     "metadata": {},
     "output_type": "execute_result"
    }
   ],
   "source": [
    "arr.dtype"
   ]
  },
  {
   "cell_type": "markdown",
   "id": "dad3e39a-40e2-431d-8843-cb8097c82e4c",
   "metadata": {},
   "source": [
    "#### 13. For the same array arr, find the total number of elements. "
   ]
  },
  {
   "cell_type": "code",
   "execution_count": 13,
   "id": "16dab064-498c-486a-ad24-d00145399ada",
   "metadata": {},
   "outputs": [
    {
     "data": {
      "text/plain": [
       "25"
      ]
     },
     "execution_count": 13,
     "metadata": {},
     "output_type": "execute_result"
    }
   ],
   "source": [
    "arr.size"
   ]
  },
  {
   "cell_type": "markdown",
   "id": "13208f7f-5d46-41c9-9db3-2ebbade67835",
   "metadata": {},
   "source": [
    "#### 14. Create the array [1, 2, 3] but make sure its data type is float. "
   ]
  },
  {
   "cell_type": "code",
   "execution_count": 14,
   "id": "de39e0c4-e884-4a80-b9f9-c6d57235f467",
   "metadata": {},
   "outputs": [
    {
     "data": {
      "text/plain": [
       "dtype('float64')"
      ]
     },
     "execution_count": 14,
     "metadata": {},
     "output_type": "execute_result"
    }
   ],
   "source": [
    "arr = np.array([1,2,3], dtype = float)\n",
    "arr.dtype"
   ]
  },
  {
   "cell_type": "markdown",
   "id": "bd610a8e-a177-4032-969f-4e5d0f6a2e7b",
   "metadata": {},
   "source": [
    "#### 15. Convert the data type of an existing integer array to float."
   ]
  },
  {
   "cell_type": "code",
   "execution_count": 15,
   "id": "6026675a-7c93-4dac-829a-9309c31e5c49",
   "metadata": {},
   "outputs": [
    {
     "data": {
      "text/plain": [
       "array([1., 2., 3., 4.])"
      ]
     },
     "execution_count": 15,
     "metadata": {},
     "output_type": "execute_result"
    }
   ],
   "source": [
    "arr = np.array([1,2,3,4])\n",
    "arr.astype(float)"
   ]
  },
  {
   "cell_type": "markdown",
   "id": "8ab4cc1d-288f-425b-8446-4724e914c964",
   "metadata": {},
   "source": [
    "## Part 2: Indexing & Slicing (Accessing Your Data) "
   ]
  },
  {
   "cell_type": "markdown",
   "id": "53e2d04e-e221-40ec-8b96-78e7ca1200f5",
   "metadata": {},
   "source": [
    "(For questions 16-35, use the following arrays):\n",
    "\n",
    "arr_1d = np.arange(10)  \n",
    "arr_2d = np.array([[1, 2, 3], [4, 5, 6], [7, 8, 9]])  "
   ]
  },
  {
   "cell_type": "markdown",
   "id": "e46b7263-02fd-4b57-9b33-033783e6b4fa",
   "metadata": {},
   "source": [
    "#### 16. From arr_1d, get the first element."
   ]
  },
  {
   "cell_type": "code",
   "execution_count": 16,
   "id": "bdc3a6b5-478b-4336-8ff4-259ce7207afe",
   "metadata": {},
   "outputs": [],
   "source": [
    "arr_1d = np.arange(10)  \n",
    "arr_2d = np.array([[1, 2, 3], \n",
    "                   [4, 5, 6], \n",
    "                   [7, 8, 9]])"
   ]
  },
  {
   "cell_type": "code",
   "execution_count": 17,
   "id": "a4af46f2-98ed-4b4c-b350-4c8a1658682a",
   "metadata": {},
   "outputs": [
    {
     "data": {
      "text/plain": [
       "array([0, 1, 2, 3, 4, 5, 6, 7, 8, 9])"
      ]
     },
     "execution_count": 17,
     "metadata": {},
     "output_type": "execute_result"
    }
   ],
   "source": [
    "arr_1d"
   ]
  },
  {
   "cell_type": "code",
   "execution_count": 18,
   "id": "1a39f3c8-d969-44ee-bcf9-41f1f27271aa",
   "metadata": {},
   "outputs": [
    {
     "data": {
      "text/plain": [
       "0"
      ]
     },
     "execution_count": 18,
     "metadata": {},
     "output_type": "execute_result"
    }
   ],
   "source": [
    "arr_1d[0]"
   ]
  },
  {
   "cell_type": "markdown",
   "id": "b1201333-26cf-4800-be54-07adacefea83",
   "metadata": {},
   "source": [
    "#### 17. From arr_1d, get the last element. "
   ]
  },
  {
   "cell_type": "code",
   "execution_count": 19,
   "id": "7011eb76-430a-4836-9144-b03568820dec",
   "metadata": {},
   "outputs": [
    {
     "data": {
      "text/plain": [
       "9"
      ]
     },
     "execution_count": 19,
     "metadata": {},
     "output_type": "execute_result"
    }
   ],
   "source": [
    "arr_1d[-1]"
   ]
  },
  {
   "cell_type": "markdown",
   "id": "8260a4b4-2d68-4cb5-b2cd-071cd8c8a0f2",
   "metadata": {},
   "source": [
    "#### 18. From arr_1d, get the elements from index 2 up to index 5."
   ]
  },
  {
   "cell_type": "code",
   "execution_count": 20,
   "id": "1ff2a1f0-0e2d-4408-bfd5-27cd67fc3ea4",
   "metadata": {},
   "outputs": [
    {
     "data": {
      "text/plain": [
       "array([2, 3, 4, 5])"
      ]
     },
     "execution_count": 20,
     "metadata": {},
     "output_type": "execute_result"
    }
   ],
   "source": [
    "arr_1d[2:6]"
   ]
  },
  {
   "cell_type": "markdown",
   "id": "7a1e935e-2de5-403a-a57e-634da9467933",
   "metadata": {},
   "source": [
    "#### 19. From arr_1d, get all elements in reverse order. "
   ]
  },
  {
   "cell_type": "code",
   "execution_count": 21,
   "id": "9352c304-a4f7-48e3-abb3-d99647ed5e3d",
   "metadata": {},
   "outputs": [
    {
     "data": {
      "text/plain": [
       "array([9, 8, 7, 6, 5, 4, 3, 2, 1, 0])"
      ]
     },
     "execution_count": 21,
     "metadata": {},
     "output_type": "execute_result"
    }
   ],
   "source": [
    "arr_1d[9::-1]"
   ]
  },
  {
   "cell_type": "markdown",
   "id": "abbd8256-c55c-445b-9baf-4a899fd06f79",
   "metadata": {},
   "source": [
    "#### 20. From arr_2d, get the element at row 1, column 2 (which is 6)."
   ]
  },
  {
   "cell_type": "code",
   "execution_count": 22,
   "id": "280c49a2-243b-4ec8-b550-21b89abc81c8",
   "metadata": {},
   "outputs": [
    {
     "data": {
      "text/plain": [
       "6"
      ]
     },
     "execution_count": 22,
     "metadata": {},
     "output_type": "execute_result"
    }
   ],
   "source": [
    "arr_2d[1,2]"
   ]
  },
  {
   "cell_type": "markdown",
   "id": "81ef9171-1444-407e-aa52-112f773aa4fe",
   "metadata": {},
   "source": [
    "#### 21. From arr_2d, get the entire first row [1, 2, 3]."
   ]
  },
  {
   "cell_type": "code",
   "execution_count": 23,
   "id": "9f9165f6-31dc-4f21-a6a9-883cbccb1821",
   "metadata": {},
   "outputs": [
    {
     "data": {
      "text/plain": [
       "array([1, 2, 3])"
      ]
     },
     "execution_count": 23,
     "metadata": {},
     "output_type": "execute_result"
    }
   ],
   "source": [
    "arr_2d[0]"
   ]
  },
  {
   "cell_type": "markdown",
   "id": "4c5b22f6-bb5c-447d-a3d4-410b641de440",
   "metadata": {},
   "source": [
    "#### 22. From arr_2d, get the entire second column [2, 5, 8]."
   ]
  },
  {
   "cell_type": "code",
   "execution_count": 24,
   "id": "3774a482-149d-44a6-bbdb-854ccbbf919e",
   "metadata": {},
   "outputs": [
    {
     "data": {
      "text/plain": [
       "array([2, 5, 8])"
      ]
     },
     "execution_count": 24,
     "metadata": {},
     "output_type": "execute_result"
    }
   ],
   "source": [
    "arr_2d[:,1]"
   ]
  },
  {
   "cell_type": "markdown",
   "id": "d30bd28f-8b96-449e-8732-cfe4867a60b7",
   "metadata": {},
   "source": [
    "#### 23. From arr_2d, extract the sub-array [[1, 2], [4, 5]]. "
   ]
  },
  {
   "cell_type": "code",
   "execution_count": 25,
   "id": "9419f28f-1d88-4c8d-96e7-0aa8cae42bad",
   "metadata": {},
   "outputs": [
    {
     "data": {
      "text/plain": [
       "array([[1, 2],\n",
       "       [4, 5]])"
      ]
     },
     "execution_count": 25,
     "metadata": {},
     "output_type": "execute_result"
    }
   ],
   "source": [
    "arr_2d[:2,:2]"
   ]
  },
  {
   "cell_type": "markdown",
   "id": "6fdde6c6-6b60-41db-9193-774ce7261193",
   "metadata": {},
   "source": [
    "#### 24. Create a boolean mask to find all numbers in arr_1d that are greater than 5. "
   ]
  },
  {
   "cell_type": "code",
   "execution_count": 26,
   "id": "d82e5ce3-440b-4d88-bb7b-9e8b0c8df182",
   "metadata": {},
   "outputs": [
    {
     "data": {
      "text/plain": [
       "array([False, False, False, False, False, False,  True,  True,  True,\n",
       "        True])"
      ]
     },
     "execution_count": 26,
     "metadata": {},
     "output_type": "execute_result"
    }
   ],
   "source": [
    "arr_1d > 5"
   ]
  },
  {
   "cell_type": "markdown",
   "id": "f6664267-bb5a-4896-99ac-d9783614b371",
   "metadata": {},
   "source": [
    "#### 25. Use the boolean mask from the previous question to select the actual numbers from arr_1d. "
   ]
  },
  {
   "cell_type": "code",
   "execution_count": 27,
   "id": "30e5de50-b471-4da9-be42-1b1fca07a9e9",
   "metadata": {},
   "outputs": [
    {
     "data": {
      "text/plain": [
       "array([6, 7, 8, 9])"
      ]
     },
     "execution_count": 27,
     "metadata": {},
     "output_type": "execute_result"
    }
   ],
   "source": [
    "arr_1d[arr_1d > 5]"
   ]
  },
  {
   "cell_type": "markdown",
   "id": "2754f423-17eb-4f95-9471-c2254e81f686",
   "metadata": {},
   "source": [
    "#### 26. In one line, select all numbers from arr_2d that are odd. "
   ]
  },
  {
   "cell_type": "markdown",
   "id": "07674ea4-c5c7-4793-b3d8-7455f18b11ab",
   "metadata": {},
   "source": [
    "arr_2d[arr_2d % 2 == 1]"
   ]
  },
  {
   "cell_type": "markdown",
   "id": "9d5ede78-c0a5-44ca-a645-90f4a7236d8e",
   "metadata": {},
   "source": [
    "#### 27. In arr_1d, replace all values greater than 5 with the value 0. "
   ]
  },
  {
   "cell_type": "code",
   "execution_count": 28,
   "id": "cfce857e-091b-46bc-9a2b-5621c6194929",
   "metadata": {},
   "outputs": [
    {
     "data": {
      "text/plain": [
       "array([[1, 2, 3],\n",
       "       [4, 5, 0],\n",
       "       [0, 0, 0]])"
      ]
     },
     "execution_count": 28,
     "metadata": {},
     "output_type": "execute_result"
    }
   ],
   "source": [
    "arr_2d[arr_2d > 5] = 0\n",
    "arr_2d"
   ]
  },
  {
   "cell_type": "markdown",
   "id": "13aaf5f2-057d-40b8-a8c3-761859c75049",
   "metadata": {},
   "source": [
    "#### 28. From arr_1d, select the elements at indices 1, 3, and 7. "
   ]
  },
  {
   "cell_type": "code",
   "execution_count": 29,
   "id": "ce4e0743-6600-4fc4-99dd-54288738808a",
   "metadata": {},
   "outputs": [
    {
     "data": {
      "text/plain": [
       "array([1, 3, 7])"
      ]
     },
     "execution_count": 29,
     "metadata": {},
     "output_type": "execute_result"
    }
   ],
   "source": [
    "arr_1d[[1,3,7]]"
   ]
  },
  {
   "cell_type": "markdown",
   "id": "a796dc52-73b1-44fb-a604-04f4d42dc28b",
   "metadata": {},
   "source": [
    "#### 29. From arr_2d, select the first and third rows."
   ]
  },
  {
   "cell_type": "code",
   "execution_count": 30,
   "id": "d6bc3100-051d-4ab4-b2e1-5e8689d9de04",
   "metadata": {},
   "outputs": [
    {
     "data": {
      "text/plain": [
       "array([[1, 2, 3],\n",
       "       [0, 0, 0]])"
      ]
     },
     "execution_count": 30,
     "metadata": {},
     "output_type": "execute_result"
    }
   ],
   "source": [
    "arr_2d[[0,2]]"
   ]
  },
  {
   "cell_type": "markdown",
   "id": "0ce853df-0eb5-4a46-bf8d-4b196303f784",
   "metadata": {},
   "source": [
    "#### 30. What is the difference between a slice (view) and a fancy index (copy)? Modify a slice of arr_1d and see if the original changes."
   ]
  },
  {
   "cell_type": "code",
   "execution_count": 46,
   "id": "f12afb3b-d1e6-40ad-9fc4-6fc0e1524f86",
   "metadata": {},
   "outputs": [
    {
     "name": "stdout",
     "output_type": "stream",
     "text": [
      "After modifiying slice_view:  [  0   1 200   3   4   5   6   7   8   9]\n",
      "After modifying fancy_copy:  [  0   1 200   3   4   5   6   7   8   9]\n"
     ]
    }
   ],
   "source": [
    "# slice view\n",
    "slice_view = arr_1d[1:5]\n",
    "slice_view[1] = 200\n",
    "print(\"After modifiying slice_view: \", arr_1d)\n",
    "\n",
    "# Fancy indexing\n",
    "fancy_copy = arr_1d[[1,2,3,]]\n",
    "fancy_copy[0] = 999\n",
    "print(\"After modifying fancy_copy: \", arr_1d)"
   ]
  },
  {
   "cell_type": "markdown",
   "id": "f4597f88-df22-4f0b-934e-8cb43be97f95",
   "metadata": {},
   "source": [
    "#### 31. Create a copy of arr_2d and modify an element in the copy. Check if the original array is affected."
   ]
  },
  {
   "cell_type": "code",
   "execution_count": 50,
   "id": "ffdcbc70-3152-467e-85c9-986162e9e6c5",
   "metadata": {},
   "outputs": [
    {
     "data": {
      "text/plain": [
       "array([[0, 0, 0],\n",
       "       [0, 0, 0],\n",
       "       [0, 0, 0]])"
      ]
     },
     "execution_count": 50,
     "metadata": {},
     "output_type": "execute_result"
    }
   ],
   "source": [
    "arr_2d.copy()\n",
    "arr_2d[:2] = 0\n",
    "arr_2d # Yes the orginal array are affected"
   ]
  },
  {
   "cell_type": "markdown",
   "id": "7f3e577e-6f74-414c-be66-4a4a82acddb7",
   "metadata": {},
   "source": [
    "#### 32. From arr_2d, get the diagonal elements [1, 5, 9]. "
   ]
  },
  {
   "cell_type": "code",
   "execution_count": 54,
   "id": "af943126-1bbe-4051-a02d-e5e4d787ac6d",
   "metadata": {},
   "outputs": [
    {
     "data": {
      "text/plain": [
       "array([[1, 2, 3],\n",
       "       [4, 5, 6],\n",
       "       [7, 8, 9]])"
      ]
     },
     "execution_count": 54,
     "metadata": {},
     "output_type": "execute_result"
    }
   ],
   "source": [
    "change_element = arr_2d[:]\n",
    "change_element[:] = [[1,2,3],\n",
    "                     [4,5,6],\n",
    "                     [7,8,9]]\n",
    "change_element"
   ]
  },
  {
   "cell_type": "code",
   "execution_count": 56,
   "id": "5cf480a3-c302-4eef-882c-5ff894ea9040",
   "metadata": {},
   "outputs": [
    {
     "data": {
      "text/plain": [
       "array([1, 5, 9])"
      ]
     },
     "execution_count": 56,
     "metadata": {},
     "output_type": "execute_result"
    }
   ],
   "source": [
    "diag = np.diag(arr_2d)\n",
    "diag"
   ]
  },
  {
   "cell_type": "code",
   "execution_count": null,
   "id": "cdaa7e68-fbeb-4125-9c9b-084509b31ff1",
   "metadata": {},
   "outputs": [],
   "source": []
  }
 ],
 "metadata": {
  "kernelspec": {
   "display_name": "Python 3 (ipykernel)",
   "language": "python",
   "name": "python3"
  },
  "language_info": {
   "codemirror_mode": {
    "name": "ipython",
    "version": 3
   },
   "file_extension": ".py",
   "mimetype": "text/x-python",
   "name": "python",
   "nbconvert_exporter": "python",
   "pygments_lexer": "ipython3",
   "version": "3.12.7"
  },
  "widgets": {
   "application/vnd.jupyter.widget-state+json": {
    "state": {},
    "version_major": 2,
    "version_minor": 0
   }
  }
 },
 "nbformat": 4,
 "nbformat_minor": 5
}
